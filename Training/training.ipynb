{
 "cells": [
  {
   "cell_type": "code",
   "execution_count": null,
   "id": "200e59f7",
   "metadata": {},
   "outputs": [],
   "source": [
    "# Import necessary libraries\n",
    "import numpy as np\n",
    "import pandas as pd\n",
    "from sklearn.preprocessing import LabelEncoder\n",
    "from sklearn.model_selection import train_test_split\n",
    "from sklearn.ensemble import RandomForestClassifier\n",
    "from sklearn.metrics import classification_report, accuracy_score\n",
    "import pickle"
   ]
  },
  {
   "cell_type": "code",
   "execution_count": null,
   "id": "5fca0c02",
   "metadata": {},
   "outputs": [],
   "source": [
    "# Load Dataset \n",
    "df = pd.read_csv(\"DiseaseAndSymptoms.csv\")\n",
    "df.head"
   ]
  },
  {
   "cell_type": "code",
   "execution_count": null,
   "id": "41be08dd",
   "metadata": {},
   "outputs": [],
   "source": [
    "# Combine all symptom columns into one list per row\n",
    "symptom_cols = [f'Symptom_{i}' for i in range(1, 18)]\n",
    "df['all_symptoms'] = df[symptom_cols].values.tolist()\n",
    "# Each row now has a list of symptom values (with NaN)\n",
    "df['all_symptoms'] = df['all_symptoms'].apply(lambda x: [str(i).strip() for i in x if pd.notna(i)])\n",
    "df.head()\n"
   ]
  },
  {
   "cell_type": "code",
   "execution_count": null,
   "id": "227ddb1f",
   "metadata": {},
   "outputs": [],
   "source": [
    "#  Build the symptom vocabulary (all unique symptoms)\n",
    "all_symptoms_flat = [symptom for sublist in df['all_symptoms'] for symptom in sublist]\n",
    "unique_symptoms = sorted(list(set(all_symptoms_flat)))\n",
    "print(f\"Total unique symptoms: {len(unique_symptoms)}\")\n"
   ]
  },
  {
   "cell_type": "code",
   "execution_count": null,
   "id": "8d104273",
   "metadata": {},
   "outputs": [],
   "source": [
    "#  Create binary feature vector for symptoms presence\n",
    "def symptoms_to_vector(symptom_list):\n",
    "    return [1 if symptom in symptom_list else 0 for symptom in unique_symptoms]\n",
    "\n",
    "df['symptom_vector'] = df['all_symptoms'].apply(symptoms_to_vector)\n",
    "df.head()\n"
   ]
  },
  {
   "cell_type": "code",
   "execution_count": null,
   "id": "38cd9797",
   "metadata": {},
   "outputs": [],
   "source": [
    "#  Prepare feature matrix X and target vector y\n",
    "X = np.array(df['symptom_vector'].tolist())\n",
    "le = LabelEncoder()\n",
    "y = le.fit_transform(df['Disease'])\n"
   ]
  },
  {
   "cell_type": "code",
   "execution_count": null,
   "id": "3948b2f4",
   "metadata": {},
   "outputs": [],
   "source": [
    "# Split data into train and test sets\n",
    "X_train, X_test, y_train, y_test = train_test_split(X, y, test_size=0.2, random_state=42)\n"
   ]
  },
  {
   "cell_type": "code",
   "execution_count": null,
   "id": "16910516",
   "metadata": {},
   "outputs": [],
   "source": [
    "# Initialize and train the Random Forest classifier\n",
    "model = RandomForestClassifier(n_estimators=100, random_state=42)\n",
    "model.fit(X_train, y_train)\n"
   ]
  },
  {
   "cell_type": "code",
   "execution_count": null,
   "id": "75050401",
   "metadata": {},
   "outputs": [],
   "source": [
    "# Evaluate the model\n",
    "y_pred = model.predict(X_test)\n",
    "print(f\"Accuracy: {accuracy_score(y_test, y_pred):.2f}\")\n",
    "print(classification_report(y_test, y_pred, target_names=le.classes_))\n"
   ]
  },
  {
   "cell_type": "code",
   "execution_count": null,
   "id": "d871afc6",
   "metadata": {},
   "outputs": [],
   "source": [
    "# Create the Training directory if it doesn't exist\n",
    "import os\n",
    "os.makedirs(\"Training\", exist_ok=True)\n"
   ]
  },
  {
   "cell_type": "code",
   "execution_count": null,
   "id": "5b1e3922",
   "metadata": {},
   "outputs": [],
   "source": [
    "with open(\"model.pkl\", \"wb\") as f:\n",
    "    pickle.dump(model, f)\n",
    "\n",
    "with open(\"symptoms.pkl\", \"wb\") as f:\n",
    "    pickle.dump(unique_symptoms, f)\n",
    "\n",
    "with open(\"label_encoder.pkl\", \"wb\") as f:\n",
    "    pickle.dump(le, f)\n"
   ]
  }
 ],
 "metadata": {
  "kernelspec": {
   "display_name": "disease_env",
   "language": "python",
   "name": "python3"
  },
  "language_info": {
   "codemirror_mode": {
    "name": "ipython",
    "version": 3
   },
   "file_extension": ".py",
   "mimetype": "text/x-python",
   "name": "python",
   "nbconvert_exporter": "python",
   "pygments_lexer": "ipython3",
   "version": "3.11.9"
  }
 },
 "nbformat": 4,
 "nbformat_minor": 5
}
